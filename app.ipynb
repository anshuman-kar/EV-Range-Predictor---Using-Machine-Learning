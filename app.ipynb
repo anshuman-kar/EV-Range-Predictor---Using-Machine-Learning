{
 "cells": [
  {
   "cell_type": "code",
   "execution_count": 1,
   "id": "7f702907",
   "metadata": {},
   "outputs": [
    {
     "name": "stdout",
     "output_type": "stream",
     "text": [
      " * Serving Flask app '__main__'\n",
      " * Debug mode: off\n"
     ]
    },
    {
     "name": "stderr",
     "output_type": "stream",
     "text": [
      "WARNING: This is a development server. Do not use it in a production deployment. Use a production WSGI server instead.\n",
      " * Running on http://127.0.0.1:5000\n",
      "Press CTRL+C to quit\n"
     ]
    }
   ],
   "source": [
    "from flask import Flask, render_template, request, jsonify\n",
    "import pandas as pd\n",
    "import threading\n",
    "from sklearn.pipeline import Pipeline\n",
    "from sklearn.preprocessing import StandardScaler, OneHotEncoder\n",
    "from sklearn.compose import ColumnTransformer\n",
    "from sklearn.ensemble import RandomForestRegressor\n",
    "from sklearn.model_selection import train_test_split\n",
    "\n",
    "# Initialize Flask app\n",
    "app = Flask(__name__)\n",
    "\n",
    "# Dataset preprocessing and model setup\n",
    "file_path = \"evdataset.csv\"  # Ensure this file is in the current directory\n",
    "data = pd.read_csv(file_path)\n",
    "\n",
    "# Define features and target\n",
    "features = ['Acceleration 0 - 100 km/h', 'Top Speed', 'Battery Capacity', 'Seats', 'Drive']\n",
    "target = 'Combined - Mild Weather'\n",
    "\n",
    "# Preprocessing pipeline\n",
    "numerical_features = ['Acceleration 0 - 100 km/h', 'Top Speed', 'Battery Capacity', 'Seats']\n",
    "categorical_features = ['Drive']\n",
    "\n",
    "numerical_transformer = StandardScaler()\n",
    "\n",
    "# Make sure the OneHotEncoder can handle all the categories, including those not present in the dataset\n",
    "categorical_transformer = OneHotEncoder(handle_unknown='ignore')  # Handle unknown categories gracefully\n",
    "\n",
    "preprocessor = ColumnTransformer(\n",
    "    transformers=[\n",
    "        ('num', numerical_transformer, numerical_features),\n",
    "        ('cat', categorical_transformer, categorical_features)\n",
    "    ]\n",
    ")\n",
    "\n",
    "# Train a RandomForestRegressor model\n",
    "model_pipeline = Pipeline(steps=[\n",
    "    ('preprocessor', preprocessor),\n",
    "    ('regressor', RandomForestRegressor(random_state=42))\n",
    "])\n",
    "\n",
    "X = data[features]\n",
    "y = data[target]\n",
    "\n",
    "X_train, X_test, y_train, y_test = train_test_split(X, y, test_size=0.2, random_state=42)\n",
    "model_pipeline.fit(X_train, y_train)\n",
    "\n",
    "# Flask routes\n",
    "@app.route('/')\n",
    "def home():\n",
    "    return render_template('index.html')\n",
    "\n",
    "@app.route('/predict', methods=['POST'])\n",
    "def predict():\n",
    "    try:\n",
    "        # Parse input data from form\n",
    "        input_data = [\n",
    "            float(request.form['acceleration']),\n",
    "            float(request.form['top_speed']),\n",
    "            float(request.form['battery_capacity']),\n",
    "            int(request.form['seats']),\n",
    "            request.form['drive']  # Drive type (FWD, RWD, AWD)\n",
    "        ]\n",
    "        \n",
    "        # Create DataFrame for input\n",
    "        input_df = pd.DataFrame([input_data], columns=features)\n",
    "        \n",
    "        # Predict the range using the trained model\n",
    "        predicted_range = model_pipeline.predict(input_df)[0]\n",
    "        \n",
    "        return jsonify({\n",
    "            'status': 'success',\n",
    "            'predicted_range': f\"{predicted_range:.2f} km\"\n",
    "        })\n",
    "    except Exception as e:\n",
    "        return jsonify({'status': 'error', 'message': str(e)})\n",
    "\n",
    "# Run Flask in a separate thread\n",
    "def run_flask():\n",
    "    app.run(port=5000)\n",
    "\n",
    "thread = threading.Thread(target=run_flask)\n",
    "thread.daemon = True\n",
    "thread.start()\n"
   ]
  },
  {
   "cell_type": "code",
   "execution_count": null,
   "id": "b53a86d7",
   "metadata": {},
   "outputs": [],
   "source": []
  },
  {
   "cell_type": "code",
   "execution_count": null,
   "id": "5d960b42",
   "metadata": {},
   "outputs": [],
   "source": []
  }
 ],
 "metadata": {
  "kernelspec": {
   "display_name": "Python 3 (ipykernel)",
   "language": "python",
   "name": "python3"
  },
  "language_info": {
   "codemirror_mode": {
    "name": "ipython",
    "version": 3
   },
   "file_extension": ".py",
   "mimetype": "text/x-python",
   "name": "python",
   "nbconvert_exporter": "python",
   "pygments_lexer": "ipython3",
   "version": "3.11.3"
  }
 },
 "nbformat": 4,
 "nbformat_minor": 5
}
